{
 "cells": [
  {
   "cell_type": "markdown",
   "metadata": {},
   "source": [
    "# 📈 Candlestick Chart with Technical Indicators using mplfinance"
   ]
  },
  {
   "cell_type": "code",
   "execution_count": null,
   "metadata": {},
   "outputs": [],
   "source": [
    "import pandas as pd\n",
    "import numpy as np\n",
    "import mplfinance as mpf\n",
    "\n",
    "df = pd.read_parquet('../data/chart_data/3105.parquet')\n",
    "df.set_index('date', inplace=True)\n",
    "df.index = pd.to_datetime(df.index)\n",
    "\n",
    "volume_colors = np.where(df['Close'] >= df['Open'], 'red', 'green')\n",
    "macd_colors   = ['red' if val >= 0 else 'green' for val in df['Histogram']]\n",
    "\n",
    "apds = [\n",
    "    # Create a volume moving average layer (drawn in the volume panel, that is, panel=1)\n",
    "    mpf.make_addplot(df['Volume'], panel=1, type='bar', color=volume_colors, ylabel='Volume'),\n",
    "    mpf.make_addplot(df['Vol_ma_5'], panel=1, color='yellow'),\n",
    "    mpf.make_addplot(df['Vol_ma_10'], panel=1, color='lightblue'),\n",
    "\n",
    "    mpf.make_addplot(df['K'], panel=2, color='yellow', ylabel='KD'),\n",
    "    mpf.make_addplot(df['D'], panel=2, color='lightblue'),\n",
    "\n",
    "    mpf.make_addplot(df['DIF'], panel=3, color='yellow', ylabel='MACD'),\n",
    "    mpf.make_addplot(df['MACD'], panel=3, color='lightblue'),\n",
    "    mpf.make_addplot(df['Histogram'], type='bar', panel=3, color=macd_colors),\n",
    "\n",
    "    mpf.make_addplot(df['RSI_14'], panel=4, color='yellow', ylabel='RSI'),\n",
    "]\n",
    "\n",
    "Kstyle = mpf.make_mpf_style(\n",
    "    base_mpf_style='nightclouds',\n",
    "    rc={'axes.labelsize': 12, 'ytick.labelsize': 8},\n",
    "    marketcolors=mpf.make_marketcolors(\n",
    "        up='red', down='green',\n",
    "        edge='inherit',\n",
    "        wick='gray',\n",
    "        volume='inherit',\n",
    "    ),\n",
    "    facecolor='#1e1e1e',  # Background dark gray\n",
    "    edgecolor='black',\n",
    "    gridcolor='gray',\n",
    ")\n",
    "\n",
    "mpf.plot(\n",
    "    df,\n",
    "    type='candle',\n",
    "    style=Kstyle,\n",
    "    mav=(5, 10, 20),\n",
    "    mavcolors=['yellow', 'cyan', 'magenta'],\n",
    "    addplot=apds,\n",
    "    figratio=(16, 9), figscale=2,\n",
    "    volume=False\n",
    ")"
   ]
  },
  {
   "cell_type": "markdown",
   "metadata": {},
   "source": [
    "# 📈 Candlestick Chart with Bollinger Bands using mplfinance"
   ]
  },
  {
   "cell_type": "code",
   "execution_count": null,
   "metadata": {},
   "outputs": [],
   "source": [
    "import pandas as pd\n",
    "import numpy as np\n",
    "import mplfinance as mpf\n",
    "\n",
    "df = pd.read_parquet('../data/chart_data/3105.parquet')\n",
    "df.set_index('date', inplace=True)\n",
    "df.index = pd.to_datetime(df.index)\n",
    "\n",
    "apds = [\n",
    "    mpf.make_addplot(df['bollinger_upper'], color='lightblue'),\n",
    "    mpf.make_addplot(df['bollinger_mavg'], color='white'),\n",
    "    mpf.make_addplot(df['bollinger_lower'], color='lightblue')\n",
    "]\n",
    "\n",
    "Kstyle = mpf.make_mpf_style(\n",
    "    base_mpf_style='nightclouds',\n",
    "    rc={'axes.labelsize': 17, 'ytick.labelsize': 13},\n",
    "    marketcolors=mpf.make_marketcolors(\n",
    "        up='red', down='green',\n",
    "        edge='inherit',\n",
    "        wick='gray',\n",
    "        volume='inherit',\n",
    "    ),\n",
    "    facecolor='#1e1e1e',  # Background dark gray\n",
    "    edgecolor='black',\n",
    "    gridcolor='gray',\n",
    ")\n",
    "\n",
    "mpf.plot(\n",
    "    df,\n",
    "    type='candle',\n",
    "    style=Kstyle,\n",
    "    addplot=apds,\n",
    "    figratio=(16, 9), figscale=2,\n",
    "    volume=False\n",
    ")"
   ]
  }
 ],
 "metadata": {
  "kernelspec": {
   "display_name": "stock_env",
   "language": "python",
   "name": "python3"
  },
  "language_info": {
   "codemirror_mode": {
    "name": "ipython",
    "version": 3
   },
   "file_extension": ".py",
   "mimetype": "text/x-python",
   "name": "python",
   "nbconvert_exporter": "python",
   "pygments_lexer": "ipython3",
   "version": "3.12.6"
  }
 },
 "nbformat": 4,
 "nbformat_minor": 2
}
