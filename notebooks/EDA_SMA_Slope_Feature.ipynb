{
 "cells": [
  {
   "cell_type": "markdown",
   "metadata": {},
   "source": [
    "# 📊 Plotting SMA and Its Slope Changes"
   ]
  },
  {
   "cell_type": "code",
   "execution_count": null,
   "metadata": {},
   "outputs": [],
   "source": [
    "import pandas as pd\n",
    "import matplotlib.pyplot as plt\n",
    "\n",
    "df = pd.read_parquet('../data/chart_data/3105.parquet')\n",
    "df.set_index('date', inplace=True)\n",
    "df.index = pd.to_datetime(df.index)\n",
    "\n",
    "plt.figure(figsize=(14, 8))\n",
    "\n",
    "# SMA_20\n",
    "plt.plot(df.index, df['SMA_20'], label='SMA 20', color='blue', linewidth=2)\n",
    "\n",
    "# Orange dashed line, original slope change (display enlarged 10 times)\n",
    "plt.plot(df.index, df['SMA_slope_20'] * 10, label='sma_slope x10', color='orange', linestyle='--')\n",
    "\n",
    "# Green line dotted line, smoothed slope change (more stable)\n",
    "plt.plot(df.index, df['SMA_slope_20_avg_3'] * 10, label='sma_slope_avg x10', color='green', linestyle='-.')\n",
    "\n",
    "plt.title('SMA_20 vs sma_slope vs sma_slope_avg (x10)')\n",
    "plt.xlabel('Date')\n",
    "plt.ylabel('Value')\n",
    "plt.legend()\n",
    "plt.grid(True)\n",
    "plt.tight_layout()\n",
    "plt.show()"
   ]
  }
 ],
 "metadata": {
  "kernelspec": {
   "display_name": "stock_env",
   "language": "python",
   "name": "python3"
  },
  "language_info": {
   "codemirror_mode": {
    "name": "ipython",
    "version": 3
   },
   "file_extension": ".py",
   "mimetype": "text/x-python",
   "name": "python",
   "nbconvert_exporter": "python",
   "pygments_lexer": "ipython3",
   "version": "3.12.6"
  }
 },
 "nbformat": 4,
 "nbformat_minor": 2
}
