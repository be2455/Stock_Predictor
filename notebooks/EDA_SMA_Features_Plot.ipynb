{
 "cells": [
  {
   "cell_type": "markdown",
   "metadata": {},
   "source": [
    "# 📘 SMA feature visualization"
   ]
  },
  {
   "cell_type": "code",
   "execution_count": null,
   "metadata": {},
   "outputs": [],
   "source": [
    "import pandas as pd\n",
    "import matplotlib.pyplot as plt\n",
    "\n",
    "df = pd.read_parquet('../data/chart_data/3105.parquet')\n",
    "df.set_index('date', inplace=True)\n",
    "df.index = pd.to_datetime(df.index)\n",
    "\n",
    "# Set SMA window\n",
    "window = 20\n",
    "\n",
    "plt.figure(figsize=(16, 10))\n",
    "\n",
    "# Close & SMA\n",
    "plt.subplot(3, 1, 1)\n",
    "plt.plot(df.index, df['Close'], label='Close', linewidth=1.5)\n",
    "plt.plot(df.index, df[f'SMA_{window}'], label=f'SMA_{window}', linewidth=1.5)\n",
    "plt.title(f'Close and SMA_{window}')\n",
    "plt.legend()\n",
    "plt.grid(True)\n",
    "\n",
    "# SMA_ratio\n",
    "plt.subplot(3, 1, 2)\n",
    "plt.plot(df.index, df[f'SMA_ratio_{window}'], label=f'SMA_ratio_{window}', color='purple')\n",
    "plt.axhline(1, color='gray', linestyle='--')\n",
    "plt.title(f'SMA Ratio (Close / SMA_{window})')\n",
    "plt.legend()\n",
    "plt.grid(True)\n",
    "\n",
    "# Slope & Slope Avg\n",
    "plt.subplot(3, 1, 3)\n",
    "plt.plot(df.index, df[f'SMA_slope_{window}'], label=f'SMA_slope_{window}', alpha=0.5)\n",
    "plt.plot(df.index, df[f'SMA_slope_{window}_avg_3'], label=f'SMA_slope_{window}_avg_3', linewidth=2)\n",
    "plt.plot(df.index, df[f'SMA_slope_{window}_avg_5'], label=f'SMA_slope_{window}_avg_5', linewidth=2)\n",
    "plt.axhline(0, color='gray', linestyle='--')\n",
    "plt.title(f'SMA Slope and 3/5-Day Avg')\n",
    "plt.legend()\n",
    "plt.grid(True)\n",
    "\n",
    "plt.tight_layout()\n",
    "plt.show()"
   ]
  }
 ],
 "metadata": {
  "kernelspec": {
   "display_name": "stock_env",
   "language": "python",
   "name": "python3"
  },
  "language_info": {
   "codemirror_mode": {
    "name": "ipython",
    "version": 3
   },
   "file_extension": ".py",
   "mimetype": "text/x-python",
   "name": "python",
   "nbconvert_exporter": "python",
   "pygments_lexer": "ipython3",
   "version": "3.12.6"
  }
 },
 "nbformat": 4,
 "nbformat_minor": 2
}
