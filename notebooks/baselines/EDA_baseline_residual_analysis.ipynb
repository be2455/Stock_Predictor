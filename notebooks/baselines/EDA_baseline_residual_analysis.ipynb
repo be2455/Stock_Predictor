{
 "cells": [
  {
   "cell_type": "markdown",
   "id": "33731ee7",
   "metadata": {},
   "source": [
    "# 📘 BaseLine 預測誤差分佈圖 (Residual Histogram)"
   ]
  },
  {
   "cell_type": "markdown",
   "id": "939f2e1c",
   "metadata": {},
   "source": [
    "這段程式碼會要求使用者輸入股票代號（如 `3105`），讀取對應的 `.parquet` 檔案，\n",
    "並將資料中所有欄位的數值分布以**兩張圖一排**的方式畫出直方圖。"
   ]
  },
  {
   "cell_type": "markdown",
   "id": "709e8fb0",
   "metadata": {},
   "source": [
    "### 📊 如何解讀 Residual Distribution（預測誤差分布圖）\n",
    "\n",
    "殘差分布圖（Residual Distribution）是用來觀察模型預測誤差的圖表。以下是看圖時可以注意的幾個關鍵點：\n",
    "\n",
    "#### 1. **分布形狀（Shape）**\n",
    "- 理想情況下，分布應該是**對稱鐘型（近似常態分布）**，表示預測誤差平均為 0，沒有系統性偏誤。\n",
    "- 若圖偏向一側，可能代表模型**有系統性高估或低估**。\n",
    "\n",
    "#### 2. **集中程度（Spread / Variance）**\n",
    "- 分布越窄、越尖，代表模型預測越穩定，誤差範圍小。\n",
    "- 分布越寬、尾巴越長，表示模型誤差波動大，可能有較多 outlier。\n",
    "\n",
    "#### 3. **平均位置（Centering around 0）**\n",
    "- X 軸代表 residual 值（通常是 `True - Predicted`）。\n",
    "- 若直方圖的中心落在 0 附近，代表預測**沒有偏誤**（Unbiased）。\n",
    "- 若偏左（負值多）：模型偏高估；若偏右：模型偏低估。\n",
    "\n",
    "#### 4. **尾端與異常值（Outliers）**\n",
    "- 殘差分布的兩端（尾巴）可以看出模型是否容易出現大誤差。\n",
    "- 長尾代表模型對某些狀況無法良好預測，可能要檢查資料異常或模型穩定性。\n",
    "\n",
    "#### 5. **紅色虛線（基準線）**\n",
    "- 圖中紅線通常標示 residual = 0 的位置，用來幫助視覺對齊中心點。\n",
    "\n",
    "---\n",
    "\n",
    "### 📌 小結\n",
    "\n",
    "殘差圖是一種直觀檢查模型預測品質的工具，可用來判斷：\n",
    "- 是否有偏誤？\n",
    "- 預測是否穩定？\n",
    "- 是否存在極端誤差？\n",
    "\n",
    "搭配數值指標（如 RMSE、MAE）可以更全面地評估模型表現。\n"
   ]
  },
  {
   "cell_type": "code",
   "execution_count": null,
   "id": "b67cb5c3",
   "metadata": {},
   "outputs": [],
   "source": [
    "import pandas as pd\n",
    "import matplotlib.pyplot as plt\n",
    "import os\n",
    "\n",
    "sys.path.append(os.path.abspath(\"../..\"))\n",
    "from config import BASELINE_RESULT_DIR\n",
    "\n",
    "stock_code = input(\"Please enter stock id: \").strip()\n",
    "filename   = f\"{stock_code}.parquet\"\n",
    "input_path = os.path.join(BASELINE_RESULT_DIR, filename)\n",
    "df = pd.read_parquet(input_path)\n",
    "\n",
    "column_list = list(df.columns)\n",
    "\n",
    "for i in range(0, len(column_list), 2):\n",
    "    fig, axs = plt.subplots(1, 2, figsize=(14, 5))  # 1 row, 2 columns\n",
    "\n",
    "    for j in range(2):\n",
    "        if i + j < len(column_list):\n",
    "            col = column_list[i + j]\n",
    "            data = df[col].dropna()\n",
    "\n",
    "            axs[j].hist(data, bins=50, edgecolor='black', alpha=0.7)\n",
    "            axs[j].set_title(f'Residual Distribution: {col}')\n",
    "            axs[j].set_xlabel('Prediction Error (Residual = True - Predicted)')\n",
    "            axs[j].set_ylabel('Frequency')\n",
    "            axs[j].grid(True, linestyle='--', linewidth=0.5, alpha=0.7)\n",
    "            axs[j].axvline(0, color='red', linestyle='--', linewidth=1)\n",
    "\n",
    "    plt.tight_layout()\n",
    "    plt.show()"
   ]
  }
 ],
 "metadata": {
  "kernelspec": {
   "display_name": "stock_env",
   "language": "python",
   "name": "python3"
  },
  "language_info": {
   "codemirror_mode": {
    "name": "ipython",
    "version": 3
   },
   "file_extension": ".py",
   "mimetype": "text/x-python",
   "name": "python",
   "nbconvert_exporter": "python",
   "pygments_lexer": "ipython3",
   "version": "3.12.6"
  }
 },
 "nbformat": 4,
 "nbformat_minor": 5
}
